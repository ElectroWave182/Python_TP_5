{
 "cells": [
  {
   "cell_type": "markdown",
   "metadata": {},
   "source": [
    "# TP n°5 : Drapeau, for imbriqués\n",
    "\n"
   ]
  },
  {
   "cell_type": "markdown",
   "metadata": {},
   "source": [
    "___________________________________________________________________________\n",
    "## Liste constante\n",
    "\n"
   ]
  },
  {
   "cell_type": "markdown",
   "metadata": {},
   "source": [
    "On donne une liste L et on demande de créer un booléen **tousEgaux** valant **True** si tous les éléments de la liste L sont égaux et **False** sinon. Par exemple si L = [42, 42, 42] alors **tousEgaux** vaudra **True** et si L =  [42, 421, 42, 42] alors **tousEgaux** vaudra **False**.\n",
    "\n"
   ]
  },
  {
   "cell_type": "code",
   "execution_count": 18,
   "metadata": {},
   "outputs": [
    {
     "name": "stdout",
     "output_type": "stream",
     "text": [
      "True\n",
      "False\n"
     ]
    }
   ],
   "source": [
    "def tousEgaux(L):\n",
    "    prec = L[0]\n",
    "    for suiv in L:\n",
    "        if suiv != prec: return False\n",
    "        prec = suiv\n",
    "    return True\n",
    "\n",
    "print(tousEgaux([42, 42, 42]))\n",
    "print(tousEgaux([42, 421, 42, 42]))"
   ]
  },
  {
   "cell_type": "markdown",
   "metadata": {},
   "source": [
    "___________________________________________________________________________\n",
    "## Suite croissante d'entiers consécutifs\n",
    "\n"
   ]
  },
  {
   "cell_type": "markdown",
   "metadata": {},
   "source": [
    "Écrire un code qui à partir d'une liste $L$ d'entiers définit une variable booléenne nommée **consecutifs** qui vaut **True** si la liste est constituée d'entiers CONSÉCUTIFS croissants et **False** sinon. Ci-dessous, voici quelques exemples de comportements attendus\n",
    "\n",
    "    [81, 82, 83]       -> True\n",
    "    [82, 81, 83]       -> False\n",
    "    [2013, 2038, 3000] -> False\n",
    "    [81]               -> True\n"
   ]
  },
  {
   "cell_type": "code",
   "execution_count": 6,
   "metadata": {},
   "outputs": [
    {
     "name": "stdout",
     "output_type": "stream",
     "text": [
      "True\n"
     ]
    }
   ],
   "source": [
    "def cons(L):\n",
    "    return L == list(range(L[0], L[-1] + 1))\n",
    "print(cons([81, 82, 83]))"
   ]
  },
  {
   "cell_type": "markdown",
   "metadata": {},
   "source": [
    "___________________________________________________________________________\n",
    "## Listes «   opposées   »\n",
    "\n"
   ]
  },
  {
   "cell_type": "markdown",
   "metadata": {},
   "source": [
    "Ecrire un code qui partant deux listes d'entiers L et M  crée un booléen **sontOpposees** valant `True` si  les deux listes sont « opposées » et `False` sinon. Deux listes sont considérées comme « opposées » si elles ont le même nombre d'éléments et si, à des indices identiques, elles possèdent des éléments opposés (comme -81 et 81). Voici quelques exemples de comportements attendus :\n",
    "\n",
    "    [81, -12, 0, -81, -31] [-81, 12, 0, 81, 31] -> True\n",
    "                                     [-81] [81] -> True\n",
    "                                  [0, 0] [0, 0] -> True\n",
    "                                        [ ] [ ] -> True\n",
    "                           [81, -12] [-81, -12] -> False\n",
    "                         [-81, 12, 0] [81, -12] -> False\n"
   ]
  },
  {
   "cell_type": "code",
   "execution_count": 17,
   "metadata": {},
   "outputs": [
    {
     "name": "stdout",
     "output_type": "stream",
     "text": [
      "True\n",
      "True\n",
      "True\n",
      "True\n",
      "False\n",
      "False\n"
     ]
    }
   ],
   "source": [
    "def opp(L, M):\n",
    "    tailleL = len(L)\n",
    "    return L == [] or tailleL == len(M) and L == [-M[rang] for rang in range(tailleL)]\n",
    "\n",
    "print(opp([81, -12, 0, -81, -31], [-81, 12, 0, 81, 31]))\n",
    "print(opp([-81], [81]))\n",
    "print(opp([0, 0], [0, 0]))\n",
    "print(opp([ ], [ ]))\n",
    "print(opp([81, -12], [-81, -12]))\n",
    "print(opp([-81, 12, 0], [81, -12]))"
   ]
  },
  {
   "cell_type": "markdown",
   "metadata": {},
   "source": [
    "___________________________________________________________________________\n",
    "## Afficher deux listes l'une après l'autre\n",
    "\n"
   ]
  },
  {
   "cell_type": "markdown",
   "metadata": {},
   "source": [
    "Écrire un code, utilisant deux boucles `for` *successives* qui produise l'affichage exact suivant (noter qu'il y a deux lignes dans le même affichage) :\n",
    "\n",
    "    42 43 44 45 46 47 48 49 50 51 52 53 54 55 56 57 58 59 60 61\n",
    "    65 66 67 68 69 70 71 72 73 74 75 76 77 78 79 80 81 82 83 84\n"
   ]
  },
  {
   "cell_type": "code",
   "execution_count": 12,
   "metadata": {},
   "outputs": [
    {
     "name": "stdout",
     "output_type": "stream",
     "text": [
      "42 43 44 45 46 47 48 49 50 51 52 53 54 55 56 57 58 59 60 61 \n",
      "65 66 67 68 69 70 71 72 73 74 75 76 77 78 79 80 81 82 83 84 "
     ]
    }
   ],
   "source": [
    "for i in range(42, 62):\n",
    "    print(i, end = \" \")\n",
    "print()\n",
    "for i in range(65, 85):\n",
    "    print(i, end = \" \")"
   ]
  },
  {
   "cell_type": "markdown",
   "metadata": {},
   "source": [
    "___________________________________________________________________________\n",
    "## Répéter l'affichage du contenu d'une liste\n",
    "\n"
   ]
  },
  {
   "cell_type": "markdown",
   "metadata": {},
   "source": [
    "Soit une liste `L` d'entiers (entre 0 et 9, pour des raisons d'esthétique de l'affichage). On demande d'afficher $n$ fois cette liste où $n>0$ est un entier donné. Par exemple, si `L` est la liste de contenu :\n",
    "\n",
    "    4 8 0 9 6 3 2 8\n",
    "et si $n=6$, l'affichage obtenu doit être :\n",
    "\n",
    "    4 8 0 9 6 3 2 8\n",
    "    4 8 0 9 6 3 2 8\n",
    "    4 8 0 9 6 3 2 8\n",
    "    4 8 0 9 6 3 2 8\n",
    "    4 8 0 9 6 3 2 8\n",
    "    4 8 0 9 6 3 2 8\n",
    "Deux « cases » successives seront séparées d'une espace.\n",
    "\n"
   ]
  },
  {
   "cell_type": "code",
   "execution_count": 15,
   "metadata": {},
   "outputs": [
    {
     "name": "stdout",
     "output_type": "stream",
     "text": [
      "4 8 0 9 6 3 2 8\n",
      "4 8 0 9 6 3 2 8\n",
      "4 8 0 9 6 3 2 8\n",
      "4 8 0 9 6 3 2 8\n",
      "4 8 0 9 6 3 2 8\n",
      "4 8 0 9 6 3 2 8\n"
     ]
    }
   ],
   "source": [
    "def aff(l, n):\n",
    "    for _ in range(n):\n",
    "        print(\" \".join(map(str, l)))\n",
    "aff([4, 8, 0, 9, 6, 3, 2, 8], 6)"
   ]
  },
  {
   "cell_type": "markdown",
   "metadata": {},
   "source": [
    "___________________________________________________________________________\n",
    "## Somme nulle\n",
    "\n"
   ]
  },
  {
   "cell_type": "markdown",
   "metadata": {},
   "source": [
    "On donne une liste `L` d'entiers et on demande de construire un booléen `somme0` valant `True` s'il existe des entiers successifs dans `L` et dont la somme vaut 0. Par exemple, si `L=[-4, 2, -4, 1, 9, -6, -4]` alors `somme0 = True` puisque `(-4) + 1 + 9 + (-6) = 0`. De même, si `L=[-4, 0, 5, 1] ` alors `somme0 = True` puisque la liste contient un terme nul. En revanche, si `L=[-3, 2, 4]` alors `somme0 = False`.\n",
    "\n"
   ]
  },
  {
   "cell_type": "code",
   "execution_count": 19,
   "metadata": {},
   "outputs": [
    {
     "name": "stdout",
     "output_type": "stream",
     "text": [
      "True\n",
      "True\n",
      "False\n"
     ]
    }
   ],
   "source": [
    "def somme0(l):\n",
    "    if 0 in l: return True\n",
    "    for nbTerm in range(1, len(l)):\n",
    "        for rang in range(len(l)):\n",
    "            if sum(l[rang:rang + nbTerm + 1]) == 0: return True\n",
    "    return False\n",
    "\n",
    "print(somme0([-4, 2, -4, 1, 9, -6, -4]))\n",
    "print(somme0([-4, 0, 5, 1]))\n",
    "print(somme0([-3, 2, 4]))"
   ]
  },
  {
   "cell_type": "markdown",
   "metadata": {},
   "source": [
    "___________________________________________________________________________\n",
    "## Minimum des entiers pairs (boucle `for`)\n",
    "\n"
   ]
  },
  {
   "cell_type": "markdown",
   "metadata": {},
   "source": [
    "On donne une liste `L` d'entiers contenant au moins un entier pair. Ecrire un code qui calcule le plus petit des éléments pairs de la liste. Exemples de comportements :\n",
    "\n",
    "    [81, 32, 12, 9, 12, 65, 46] -> 12\n",
    "    [81, 65, 46] -> 46\n",
    "On parcourra la liste et on pourra utiliser un drapeau qui indique si un entier pair a été rencontré ou pas.\n",
    "\n"
   ]
  },
  {
   "cell_type": "code",
   "execution_count": 20,
   "metadata": {},
   "outputs": [
    {
     "name": "stdout",
     "output_type": "stream",
     "text": [
      "12\n",
      "46\n"
     ]
    }
   ],
   "source": [
    "def minPair(l):\n",
    "    return min([ent for ent in l if ent % 2 == 0])\n",
    "\n",
    "print(minPair([81, 32, 12, 9, 12, 65, 46]))\n",
    "print(minPair([81, 65, 46]))"
   ]
  },
  {
   "cell_type": "markdown",
   "metadata": {},
   "source": [
    "___________________________________________________________________________\n",
    "## Damier de nombres\n",
    "\n"
   ]
  },
  {
   "cell_type": "markdown",
   "metadata": {},
   "source": [
    "Réaliser un programme qui affiche un damier de forme carrée, de côté de longueur $n>0$ et rempli alternativement du nombre 4 et du nombre 2. La case en haut à gauche sera toujours 4. Par exemple, pour $n=7$, le damier aura l'allure suivante :\n",
    "\n",
    "    4 2 4 2 4 2 4\n",
    "    2 4 2 4 2 4 2\n",
    "    4 2 4 2 4 2 4\n",
    "    2 4 2 4 2 4 2\n",
    "    4 2 4 2 4 2 4\n",
    "    2 4 2 4 2 4 2\n",
    "    4 2 4 2 4 2 4\n",
    "Il est possible de coder l'exercice de plusieurs façons. On pourra imaginer que la grille est numérotée par ligne et par colonne et on remarquera que tous les 4 de la grille sont à des indices de ligne et de colonne qui ont toujours la même parité (soit les deux indices sont pairs, soit les deux indices sont impairs).\n",
    "\n"
   ]
  },
  {
   "cell_type": "code",
   "execution_count": 21,
   "metadata": {},
   "outputs": [
    {
     "name": "stdout",
     "output_type": "stream",
     "text": [
      "7\n",
      "4 2 4 2 4 2 4 \n",
      "2 4 2 4 2 4 2 \n",
      "4 2 4 2 4 2 4 \n",
      "2 4 2 4 2 4 2 \n",
      "4 2 4 2 4 2 4 \n",
      "2 4 2 4 2 4 2 \n",
      "4 2 4 2 4 2 4 \n"
     ]
    }
   ],
   "source": [
    "n = int(input())\n",
    "for lig in range(n):\n",
    "    for col in range(n):\n",
    "        som = lig + col\n",
    "        if som % 2 == 0: print(4, end = \" \")\n",
    "        else: print(2, end = \" \")\n",
    "    print()"
   ]
  },
  {
   "cell_type": "markdown",
   "metadata": {},
   "source": [
    "___________________________________________________________________________\n",
    "## Liste creuse\n",
    "\n"
   ]
  },
  {
   "cell_type": "markdown",
   "metadata": {},
   "source": [
    "On dit qu'une liste formée de chiffres entre 0 et 9 est *creuse* s'il n'existe jamais deux chiffres voisins non nuls. Par exemple, les listes suivantes sont creuses\n",
    "\n"
   ]
  },
  {
   "cell_type": "code",
   "execution_count": null,
   "metadata": {},
   "outputs": [],
   "source": [
    "[4, 0, 2, 0, 5, 0, 0, 0, 6, 0, 4]\n",
    "[0, 0]\n",
    "[0]\n",
    "[5]\n",
    "[]\n"
   ]
  },
  {
   "cell_type": "markdown",
   "metadata": {},
   "source": [
    "tandis que la liste\n",
    "\n"
   ]
  },
  {
   "cell_type": "code",
   "execution_count": null,
   "metadata": {},
   "outputs": [],
   "source": [
    "[4, 0, 2, 5, 0, 0, 0, 6, 0, 4]\n"
   ]
  },
  {
   "cell_type": "markdown",
   "metadata": {},
   "source": [
    "n'est pas creuse puisque les chiffres non nuls 2 et 5 sont voisins.\n",
    "\n",
    "Ecrire un code qui partant d'une liste de chiffres entre 0 et 9 définit une variable booléenne `estCreuse` indiquant si la liste `L` est creuse ou pas.\n",
    "\n"
   ]
  },
  {
   "cell_type": "code",
   "execution_count": 23,
   "metadata": {},
   "outputs": [
    {
     "name": "stdout",
     "output_type": "stream",
     "text": [
      "True\n",
      "True\n",
      "True\n",
      "True\n",
      "True\n",
      "False\n"
     ]
    }
   ],
   "source": [
    "def creuse(l):\n",
    "    nb = 0\n",
    "    for chfr in l:\n",
    "        if chfr == 0: nb = 0\n",
    "        else: nb += 1\n",
    "        if nb > 1: return False\n",
    "    return True\n",
    "\n",
    "print(creuse([4, 0, 2, 0, 5, 0, 0, 0, 6, 0, 4]))\n",
    "print(creuse([0, 0]))\n",
    "print(creuse([0]))\n",
    "print(creuse([5]))\n",
    "print(creuse([]))\n",
    "print(creuse([4, 0, 2, 5, 0, 0, 0, 6, 0, 4]))"
   ]
  },
  {
   "cell_type": "markdown",
   "metadata": {},
   "source": [
    "___________________________________________________________________________\n",
    "## Nombres de Harshad\n",
    "\n"
   ]
  },
  {
   "cell_type": "markdown",
   "metadata": {},
   "source": [
    "On dit qu'un entier `n>0` est un nombre de Harshad s'il est divisible par la somme de ses chiffres. Par exemple, 42 est un nombre de Harshad car la somme de ses chiffres est 6 et 42 est un multiple de 6. En revanche, 32 n'est pas un nombre de Harshad puisque 32 n'est pas un multiple de 5.\n",
    "\n",
    "Déterminer la liste des nombres de Harshad ayant 1, 2 ou 3 chiffres (on trouvera une liste de 212 entiers). On utilisera 3 boucles `for` imbriquées.\n",
    "\n"
   ]
  },
  {
   "cell_type": "code",
   "execution_count": 30,
   "metadata": {},
   "outputs": [
    {
     "name": "stdout",
     "output_type": "stream",
     "text": [
      "[1, 2, 3, 4, 5, 6, 7, 8, 9, 10, 12, 18, 20, 21, 24, 27, 30, 36, 40, 42, 45, 48, 50, 54, 60, 63, 70, 72, 80, 81, 84, 90, 100, 102, 108, 110, 111, 112, 114, 117, 120, 126, 132, 133, 135, 140, 144, 150, 152, 153, 156, 162, 171, 180, 190, 192, 195, 198, 200, 201, 204, 207, 209, 210, 216, 220, 222, 224, 225, 228, 230, 234, 240, 243, 247, 252, 261, 264, 266, 270, 280, 285, 288, 300, 306, 308, 312, 315, 320, 322, 324, 330, 333, 336, 342, 351, 360, 364, 370, 372, 375, 378, 392, 396, 399, 400, 402, 405, 407, 408, 410, 414, 420, 423, 432, 440, 441, 444, 448, 450, 460, 465, 468, 476, 480, 481, 486, 500, 504, 506, 510, 511, 512, 513, 516, 518, 522, 531, 540, 550, 552, 555, 558, 576, 588, 592, 594, 600, 603, 605, 612, 621, 624, 629, 630, 640, 644, 645, 648, 660, 666, 684, 690, 700, 702, 704, 711, 715, 720, 730, 732, 735, 736, 738, 756, 770, 774, 777, 780, 782, 792, 800, 801, 803, 804, 810, 820, 825, 828, 832, 840, 846, 864, 870, 874, 880, 882, 888, 900, 902, 910, 912, 915, 918, 935, 936, 954, 960, 966, 972, 990, 999]\n",
      "212 éléments\n"
     ]
    }
   ],
   "source": [
    "def harshad1(n):\n",
    "    liste = [nb for nb in range(1, 10**n) if nb % sum(map(int, list(str(nb)))) == 0]\n",
    "    return str(liste) + \"\\n\" + str(len(liste)) + \" éléments\"\n",
    "print(harshad1(3))"
   ]
  },
  {
   "cell_type": "markdown",
   "metadata": {},
   "source": [
    "___________________________________________________________________________\n",
    "## Liste qui patine\n",
    "\n"
   ]
  },
  {
   "cell_type": "markdown",
   "metadata": {},
   "source": [
    "On dit qu'une liste d'entiers `L` *patine* s'il existe une position dans la liste telle que l'élément qui suit cette position et l'élément qui précède cette position ont même valeur. Par exemple, `[5, 3, 6, 3, 8]` est une liste qui patine puisque, autour de l'élément 6, il y a deux valeurs identiques ; en revanche, la liste `[5, 3, 6, 4, 8]` n'est pas une liste qui patine.\n",
    "\n",
    "On demande d'écrire un booléen `patine` qui dit si oui ou non, une liste `L` patine.\n",
    "\n",
    "Voici quelques exemples de comportements :\n",
    "\n",
    "    [5, 3, 6, 3, 8] → True\n",
    "    [5, 3, 6, 5, 8] → False\n",
    "    [5, 3, 5] → True\n",
    "    [5, 5] → False\n",
    "    [5] → False\n"
   ]
  },
  {
   "cell_type": "code",
   "execution_count": 3,
   "metadata": {},
   "outputs": [
    {
     "name": "stdout",
     "output_type": "stream",
     "text": [
      "True\n",
      "False\n",
      "True\n",
      "False\n",
      "False\n",
      "\n",
      "1\n",
      "True\n",
      "2\n",
      "True\n",
      "3\n",
      "False\n"
     ]
    }
   ],
   "source": [
    "def pat(l):\n",
    "    x, y = .5, .5\n",
    "    for ele in l:\n",
    "        if ele == x: return True\n",
    "        x, y = y, ele\n",
    "    return False\n",
    "\n",
    "print(pat([5, 3, 6, 3, 8]))\n",
    "print(pat([5, 3, 6, 5, 8]))\n",
    "print(pat([5, 3, 5]))\n",
    "print(pat([5, 5]))\n",
    "print(pat([5]), end = \"\\n\\n\")\n",
    "\n",
    "\n",
    "\"\"\" Ce problème est intéressant, mais il est facilité par le fait que l'on ne demande qu'un seul élément séparant deux valeurs\n",
    "identiques (exemple : seul 1 élément, le 6, sépare les deux 3 dans [5, 3, 6, 3, 8]); l'on pourrait aussi s'amuser à faire la\n",
    "même chose pour n éléments séparateurs, avec n donné en entrée : la liste patinerait ainsi lorsque n éléments séparent deux\n",
    "valeurs identiques (exemple : avec n = 1 ou n = 2, [5, 3, 4, 6, 3, 6] patine, mais pas avec n = 3)\"\"\"\n",
    "\n",
    "def patine(l, n):\n",
    "    s, prec = sorted(l[:]), .1\n",
    "    for ele in s:\n",
    "        posE = l.index(ele)\n",
    "        l[posE] = .1\n",
    "        if ele == prec and posE == posP + n + 1: return True\n",
    "        prec, posP = ele, posE\n",
    "    return False\n",
    "\n",
    "for _ in range(3):\n",
    "    print(patine([5, 3, 4, 6, 3, 6], int(input())))"
   ]
  },
  {
   "cell_type": "markdown",
   "metadata": {},
   "source": [
    "___________________________________________________________________________\n",
    "## Carrés concentriques alternés sous Turtle\n",
    "\n"
   ]
  },
  {
   "cell_type": "markdown",
   "metadata": {},
   "source": [
    "On donne un entier $\\mathtt{n\\geq 1}$ et un diamètre entier $\\mathtt{d>0}$ en pixels, par exemple $\\mathtt{d=40}$.\n",
    "\n"
   ]
  },
  {
   "cell_type": "markdown",
   "metadata": {},
   "source": [
    "1) Construire sous Turtle un carré tel que chaque côté soit composé de $\\mathtt{n}$ disques rouges de diamètre $\\mathtt{d}$ :\n",
    "\n",
    "![](carre_bord_disque.png)\n",
    "\n",
    "On dessira avec `dot()` la position de la tortue lorsque le dessin est terminé, cf. la bulle noire sur le dessin.\n",
    "\n",
    "Voici quelques indications :\n",
    "\n",
    "\n",
    "- le code est composée  de 4 boucles `for`\n",
    "\n",
    "- (optionnel) dans chaque boucle, on na besoin de ne dessiner que $\\mathtt{n-1}$ disques\n",
    "\n",
    "- il est conseillé de déplacer systématiquement la tortue par `goto(x,y)` où `(x,y)` désigne la position courante de la tortue.\n",
    "\n",
    "- avant déplacement, on met à jour $\\mathtt{x}$ ou $\\mathtt{y}$\n",
    "\n"
   ]
  },
  {
   "cell_type": "code",
   "execution_count": 1,
   "metadata": {},
   "outputs": [
    {
     "name": "stdout",
     "output_type": "stream",
     "text": [
      "9\n",
      "40\n"
     ]
    }
   ],
   "source": [
    "from turtle import *\n",
    "reset()\n",
    "\n",
    "n, d = int(input()), int(input())\n",
    "start = (1 - n)*d//2\n",
    "goto(start, start)\n",
    "clear()\n",
    "color(\"red\")\n",
    "for _ in range(4):\n",
    "    for _ in range(n - 1):\n",
    "        dot(d)\n",
    "        fd(d)\n",
    "    lt(90)\n",
    "color(\"black\")\n",
    "dot(8)"
   ]
  },
  {
   "cell_type": "markdown",
   "metadata": {},
   "source": [
    "2) On demande de dessiner, sous Turtle un motif tel que le suivant :\n",
    "\n",
    "![](carres_concentriques_alternes_sous_turtle.png)\n",
    "\n",
    "Le motif est une succession de carrés concentriques formés de disques de couleur alternativement orange et bleue. Le carré extérieur est de côté `n` et formé de disques bleus (sur le dessin, $\\mathtt{n=9}$).\n",
    "\n",
    "Voici quelques indications :\n",
    "\n",
    "\n",
    "- Calculer à l'avance le nombre `N` de carrés à dessiner et boucler sur ce nombre\n",
    "\n",
    "- dans la fin de chaque étape de la boucle précédente, on ajuste la couleur et ne côté du prochain carré à dessiner\n",
    "\n",
    "- dans de corsp de la boucle figure le code de dessin de la question précédente mais adapté au carré à construire.\n",
    "\n"
   ]
  },
  {
   "cell_type": "code",
   "execution_count": 8,
   "metadata": {},
   "outputs": [
    {
     "name": "stdout",
     "output_type": "stream",
     "text": [
      "9\n",
      "40\n"
     ]
    }
   ],
   "source": [
    "from turtle import *\n",
    "reset()\n",
    "\n",
    "n, d = int(input()), int(input())\n",
    "start = (1 - n)*d/2\n",
    "goto(start, start)\n",
    "clear()\n",
    "color(\"blue\")\n",
    "for num in range(0, n - 1, 2):\n",
    "    for _ in range(4):\n",
    "        for _ in range(n - num - 1):\n",
    "            dot(d)\n",
    "            fd(d)\n",
    "        lt(90)\n",
    "    lt(45)\n",
    "    up()\n",
    "    fd(2**0.5*d)\n",
    "    down()\n",
    "    rt(45)\n",
    "    if num % 4 == 0: color(\"orange\")\n",
    "    else: color(\"blue\")\n",
    "if n % 2 == 1: dot(d)"
   ]
  },
  {
   "cell_type": "markdown",
   "metadata": {},
   "source": [
    "___________________________________________________________________________\n",
    "## Somme qui vaut 42\n",
    "\n"
   ]
  },
  {
   "cell_type": "markdown",
   "metadata": {},
   "source": [
    "On donne deux listes d'entiers L et M. Créer un booléen **somme42** qui vaut True si la somme de deux nombres, l'un dans L et l'autre dans M, vaut 42. Sinon, le booléen vaudra False. Voici quelques exemples de comportements attendus :\n",
    "\n",
    "    [17, 22, 5, 5, 33, 8] [34, 8, 20] -> True\n",
    "    [6, 22, 5, 5, 33, 8] [35, 8, 25]  -> False\n",
    "Explication pour le premier cas : remarquer que $8+34=42$ ce qui explique la réponse.\n",
    "\n"
   ]
  },
  {
   "cell_type": "code",
   "execution_count": 9,
   "metadata": {},
   "outputs": [
    {
     "name": "stdout",
     "output_type": "stream",
     "text": [
      "True\n",
      "False\n"
     ]
    }
   ],
   "source": [
    "def somme42(l, m):\n",
    "    for ele1 in l:\n",
    "        for ele2 in m:\n",
    "            if ele1 + ele2 == 42: return True\n",
    "    return False\n",
    "\n",
    "print(somme42([17, 22, 5, 5, 33, 8], [34, 8, 20]))\n",
    "print(somme42([6, 22, 5, 5, 33, 8], [35, 8, 25]))"
   ]
  },
  {
   "cell_type": "markdown",
   "metadata": {},
   "source": [
    "___________________________________________________________________________\n",
    "## Motif carré formé des chiffres 4 ou 2\n",
    "\n"
   ]
  },
  {
   "cell_type": "markdown",
   "metadata": {},
   "source": [
    "Écrire un programme qui à partir d'un entier $n>0$ affiche un carré de côté $n$, dont la bordure est faite avec le nombre 4 et l'intérieur rempli par le nombre 2. Deux chiffres successifs seront séparés par une espace.\n",
    "\n",
    "Voici un exemple avec un carré de côté $n=8$ :\n",
    "\n",
    "    4 4 4 4 4 4 4 4\n",
    "    4 2 2 2 2 2 2 4\n",
    "    4 2 2 2 2 2 2 4\n",
    "    4 2 2 2 2 2 2 4\n",
    "    4 2 2 2 2 2 2 4\n",
    "    4 2 2 2 2 2 2 4\n",
    "    4 2 2 2 2 2 2 4\n",
    "    4 4 4 4 4 4 4 4\n"
   ]
  },
  {
   "cell_type": "code",
   "execution_count": 1,
   "metadata": {},
   "outputs": [
    {
     "name": "stdout",
     "output_type": "stream",
     "text": [
      "8\n",
      "4 4 4 4 4 4 4 4 \n",
      "4 2 2 2 2 2 2 4 \n",
      "4 2 2 2 2 2 2 4 \n",
      "4 2 2 2 2 2 2 4 \n",
      "4 2 2 2 2 2 2 4 \n",
      "4 2 2 2 2 2 2 4 \n",
      "4 2 2 2 2 2 2 4 \n",
      "4 4 4 4 4 4 4 4 \n"
     ]
    }
   ],
   "source": [
    "def carre(n):\n",
    "    for lig in range(n):\n",
    "        for col in range(n):\n",
    "            if lig == 0 or lig == n - 1 or col == 0 or col == n - 1: print(4, end = \" \")\n",
    "            else: print(2, end = \" \")\n",
    "        print()\n",
    "carre(int(input()))"
   ]
  },
  {
   "cell_type": "markdown",
   "metadata": {},
   "source": [
    "___________________________________________________________________________\n",
    "## Affichage en tas binaire (boucles `for` imbriquées)\n",
    "\n"
   ]
  },
  {
   "cell_type": "markdown",
   "metadata": {},
   "source": [
    "Observez l'exemple suivant que l'on demande de coder dans toute sa généralité : on donne une liste `L` d'entiers telle que\n",
    "\n"
   ]
  },
  {
   "cell_type": "code",
   "execution_count": null,
   "metadata": {},
   "outputs": [],
   "source": [
    "[99, 28, 51, 76, 85, 52, 97, 97, 20, 78, 74, 34, 72, 75]\n"
   ]
  },
  {
   "cell_type": "markdown",
   "metadata": {},
   "source": [
    "et on demande de l'afficher comme suit :\n",
    "\n",
    "    99 \n",
    "    28 51 \n",
    "    76 85 52 97 \n",
    "    97 20 78 74 34 72 75\n",
    "La première ligne contient le premier élément, la 2e les deux éléments suivants, la 3e contient les 4 éléments suivants et ainsi de suite, chaque ligne (sauf éventuellement la dernière) contenant deux fois plus d'éléments que la précédente.\n",
    "\n",
    "Indications\n",
    "\n",
    "\n",
    "- Le nombre $\\mathtt{N}$ de lignes est la partie entière supérieure du logarithme en base 2 de $\\mathtt{n+1}$ où $\\mathtt{n}$ est la longueur de `L`\n",
    "\n",
    "\n",
    "    - pour la partie entière, importer la fonction `ceil` du module `math`\n",
    "\n",
    "    - pour le logarithme en base 2, importer la fonction `log2` du module `math`\n",
    "\n",
    "- Boucler sur $\\mathtt{N-1}$ et imbriquer une boucle pour afficher les éléments de la ligne courante\n",
    "\n",
    "- En fin de corps de la boucle principale, mettre à jour la longueur de la ligne courante\n",
    "\n",
    "- Il restera à afficher la dernière ligne (dont la longueur n'est pas une puissance de 2)\n",
    "\n"
   ]
  },
  {
   "cell_type": "code",
   "execution_count": 5,
   "metadata": {},
   "outputs": [
    {
     "name": "stdout",
     "output_type": "stream",
     "text": [
      "99 \n",
      "28 51 \n",
      "76 85 52 97 \n",
      "97 20 78 74 34 72 75 99 \n",
      "28 51 76 85 52 97 97 20 78 74 34 72 75 "
     ]
    }
   ],
   "source": [
    "def aff(l):\n",
    "    bi = 2\n",
    "    for rang in range(len(l)):\n",
    "        if rang == bi - 1:\n",
    "            print()\n",
    "            bi *= 2\n",
    "        print(l[rang], end = \" \")\n",
    "aff([99, 28, 51, 76, 85, 52, 97, 97, 20, 78, 74, 34, 72, 75, 99, 28, 51, 76, 85, 52, 97, 97, 20, 78, 74, 34, 72, 75])"
   ]
  }
 ],
 "metadata": {
  "kernelspec": {
   "display_name": "Python 3",
   "language": "python",
   "name": "python3"
  },
  "language_info": {
   "codemirror_mode": {
    "name": "ipython",
    "version": 3
   },
   "file_extension": ".py",
   "mimetype": "text/x-python",
   "name": "python",
   "nbconvert_exporter": "python",
   "pygments_lexer": "ipython3",
   "version": "3.8.5"
  }
 },
 "nbformat": 4,
 "nbformat_minor": 1
}
